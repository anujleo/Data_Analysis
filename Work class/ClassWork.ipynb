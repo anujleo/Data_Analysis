{
 "cells": [
  {
   "cell_type": "code",
   "execution_count": 1,
   "id": "309d472a",
   "metadata": {},
   "outputs": [],
   "source": [
    "import pandas as pd\n",
    "import numpy as np\n",
    "from sklearn import model_selection\n",
    "from sklearn import metrics\n",
    "import seaborn as sns\n",
    "\n"
   ]
  },
  {
   "cell_type": "code",
   "execution_count": 2,
   "id": "31cd5740",
   "metadata": {},
   "outputs": [
    {
     "name": "stdout",
     "output_type": "stream",
     "text": [
      "[[1 2 3]\n",
      " [2 5 6]]\n"
     ]
    }
   ],
   "source": [
    "mat = np.array([[1,2,3], [2,5,6]])\n",
    "print(mat)  \n",
    "\n",
    "# Tuple = () You cannot do modification on this.\n",
    "# List = [] You can do modification on this.\n",
    "# Set = ([]) Set is mytable but its element are immutable.\n",
    "# Mutable = something that can be changed or modified.\n",
    "# Dictionary = '''{} Dict is unordered collectuon of values stred as <key values> pair. A key in dictionary must be immutable and Unique'''"
   ]
  },
  {
   "cell_type": "code",
   "execution_count": 3,
   "id": "f4c36b2b",
   "metadata": {},
   "outputs": [
    {
     "data": {
      "text/plain": [
       "list"
      ]
     },
     "execution_count": 3,
     "metadata": {},
     "output_type": "execute_result"
    }
   ],
   "source": [
    "a = [1,2,3,4, 'abc', 'xyz']\n",
    "type(a)"
   ]
  },
  {
   "cell_type": "code",
   "execution_count": 4,
   "id": "be27df19",
   "metadata": {
    "scrolled": true
   },
   "outputs": [
    {
     "data": {
      "text/plain": [
       "'xyz'"
      ]
     },
     "execution_count": 4,
     "metadata": {},
     "output_type": "execute_result"
    }
   ],
   "source": [
    "a.append('abc')\n",
    "a\n",
    "a.pop(5) #Defalut indexing of -1\n"
   ]
  },
  {
   "cell_type": "code",
   "execution_count": 5,
   "id": "3e2c3d72",
   "metadata": {},
   "outputs": [],
   "source": [
    "del a[5]"
   ]
  },
  {
   "cell_type": "code",
   "execution_count": 6,
   "id": "d32d1fc0",
   "metadata": {},
   "outputs": [
    {
     "data": {
      "text/plain": [
       "[1, 2, 3, 4, 'abc', 'abc']"
      ]
     },
     "execution_count": 6,
     "metadata": {},
     "output_type": "execute_result"
    }
   ],
   "source": [
    "a.insert(4, 'abc')\n",
    "a\n",
    "    "
   ]
  },
  {
   "cell_type": "code",
   "execution_count": 7,
   "id": "97398e33",
   "metadata": {},
   "outputs": [
    {
     "name": "stdout",
     "output_type": "stream",
     "text": [
      "[3, 6, 9, 12, 15]\n"
     ]
    }
   ],
   "source": [
    "a = [1, 2, 3, 4, 5]\n",
    "# multiplier = 3\n",
    "\n",
    "result = [x * 3 for x in a]\n",
    "\n",
    "print(result)\n"
   ]
  },
  {
   "cell_type": "code",
   "execution_count": 8,
   "id": "d3764b07",
   "metadata": {},
   "outputs": [
    {
     "data": {
      "text/plain": [
       "[[1, 2, 5], 8.5, 9.6, 'abc', [True, False]]"
      ]
     },
     "execution_count": 8,
     "metadata": {},
     "output_type": "execute_result"
    }
   ],
   "source": [
    "x = ([1,2,5], 8.5, 9.6, 'abc', [True, False]) #Tuple\n",
    "list(x) #converts into a list"
   ]
  },
  {
   "cell_type": "code",
   "execution_count": 9,
   "id": "a0b66f7d",
   "metadata": {},
   "outputs": [
    {
     "ename": "TypeError",
     "evalue": "unhashable type: 'list'",
     "output_type": "error",
     "traceback": [
      "\u001b[1;31m---------------------------------------------------------------------------\u001b[0m",
      "\u001b[1;31mTypeError\u001b[0m                                 Traceback (most recent call last)",
      "Cell \u001b[1;32mIn[9], line 3\u001b[0m\n\u001b[0;32m      1\u001b[0m x \u001b[38;5;241m=\u001b[39m \u001b[38;5;28mlist\u001b[39m(x)\n\u001b[1;32m----> 3\u001b[0m \u001b[38;5;28;43mset\u001b[39;49m\u001b[43m(\u001b[49m\u001b[43mx\u001b[49m\u001b[43m)\u001b[49m\n",
      "\u001b[1;31mTypeError\u001b[0m: unhashable type: 'list'"
     ]
    }
   ],
   "source": [
    "x = list(x)\n",
    "\n",
    "set(x)  #returns the unqiue numbers but error coming"
   ]
  },
  {
   "cell_type": "code",
   "execution_count": null,
   "id": "9ed57992",
   "metadata": {},
   "outputs": [],
   "source": [
    "x = (8.5, 9.6, 'abc')"
   ]
  },
  {
   "cell_type": "code",
   "execution_count": null,
   "id": "736d9fe9",
   "metadata": {},
   "outputs": [],
   "source": [
    "set(x)"
   ]
  },
  {
   "cell_type": "code",
   "execution_count": null,
   "id": "992ae2ea",
   "metadata": {},
   "outputs": [],
   "source": [
    "x1 = {'id1' :8.5}\n",
    "type(x1)"
   ]
  },
  {
   "cell_type": "code",
   "execution_count": null,
   "id": "4f87b96c",
   "metadata": {},
   "outputs": [],
   "source": [
    "X5 = [1,2,3,4,5,6,7,8,9,10]\n",
    "X5[5] = True\n",
    "X5"
   ]
  },
  {
   "cell_type": "code",
   "execution_count": null,
   "id": "5fc0f457",
   "metadata": {},
   "outputs": [],
   "source": [
    "X5 = tuple(X5)\n",
    "type(X5)"
   ]
  },
  {
   "cell_type": "code",
   "execution_count": null,
   "id": "eae57ef9",
   "metadata": {},
   "outputs": [],
   "source": [
    "id(X5)"
   ]
  },
  {
   "cell_type": "code",
   "execution_count": null,
   "id": "e2955b1a",
   "metadata": {},
   "outputs": [],
   "source": [
    "X6 = X5"
   ]
  },
  {
   "cell_type": "code",
   "execution_count": null,
   "id": "98478ab3",
   "metadata": {},
   "outputs": [],
   "source": [
    "id(X6), id(X5)"
   ]
  },
  {
   "cell_type": "code",
   "execution_count": null,
   "id": "c24cdd7c",
   "metadata": {},
   "outputs": [],
   "source": [
    "captains = {\n",
    "    \"Enterprise\": \"Picard\",\n",
    "    \"Voyager\": \"Janeway\",\n",
    "    \"Defiant\": \"Sisko\",\n",
    "    \"Discovery\": \"unknown\",\n",
    "}"
   ]
  },
  {
   "cell_type": "code",
   "execution_count": null,
   "id": "e30f8696",
   "metadata": {},
   "outputs": [],
   "source": [
    "del captains[\"Discovery\"]"
   ]
  },
  {
   "cell_type": "code",
   "execution_count": null,
   "id": "b3f2c314",
   "metadata": {},
   "outputs": [],
   "source": [
    "captains.pop(\"Discovery\")"
   ]
  },
  {
   "cell_type": "code",
   "execution_count": null,
   "id": "e6f469c4",
   "metadata": {},
   "outputs": [],
   "source": [
    "captains"
   ]
  },
  {
   "cell_type": "code",
   "execution_count": null,
   "id": "987d007f",
   "metadata": {},
   "outputs": [],
   "source": [
    "a = [1, 2, 3, 4, 5]\n",
    "a"
   ]
  },
  {
   "cell_type": "code",
   "execution_count": null,
   "id": "d46b27f2",
   "metadata": {},
   "outputs": [],
   "source": [
    "a[2:2] = []\n",
    "a"
   ]
  },
  {
   "cell_type": "code",
   "execution_count": null,
   "id": "d5d821cc",
   "metadata": {},
   "outputs": [],
   "source": [
    "a = [1,2,3,4,5]\n",
    "a.remove(3)"
   ]
  },
  {
   "cell_type": "code",
   "execution_count": null,
   "id": "89fcad01",
   "metadata": {},
   "outputs": [],
   "source": [
    "a"
   ]
  },
  {
   "cell_type": "code",
   "execution_count": null,
   "id": "7310ab70",
   "metadata": {},
   "outputs": [],
   "source": [
    "t = ('foo', 'bar', 'baz')"
   ]
  },
  {
   "cell_type": "code",
   "execution_count": null,
   "id": "539ced69",
   "metadata": {},
   "outputs": [],
   "source": [
    "t[1] = 'qux'"
   ]
  },
  {
   "cell_type": "code",
   "execution_count": null,
   "id": "bb21090a",
   "metadata": {},
   "outputs": [],
   "source": [
    "{1, 2, 3, 4, 5} - {3, 4} ^ {5, 6, 7}"
   ]
  },
  {
   "cell_type": "code",
   "execution_count": null,
   "id": "72ac0c45",
   "metadata": {},
   "outputs": [],
   "source": [
    "employee = {\n",
    "    \"id\": 1701,\n",
    "    \"name\": \"James T Kirk\",\n",
    "    \"email\": \"jtkirk@starfleet.com\",\n",
    "    \"position\": \"captain\",\n",
    "}"
   ]
  },
  {
   "cell_type": "code",
   "execution_count": null,
   "id": "332d1a6e",
   "metadata": {},
   "outputs": [],
   "source": [
    "print(employee[\"email\"])"
   ]
  },
  {
   "cell_type": "code",
   "execution_count": null,
   "id": "38d7b34c",
   "metadata": {},
   "outputs": [],
   "source": [
    "captains = {}"
   ]
  },
  {
   "cell_type": "code",
   "execution_count": null,
   "id": "ecac0a7a",
   "metadata": {},
   "outputs": [],
   "source": [
    "captains"
   ]
  },
  {
   "cell_type": "code",
   "execution_count": null,
   "id": "71118f66",
   "metadata": {},
   "outputs": [],
   "source": [
    "a = [1,2,3,4,5]\n",
    "# a[2] = []\n",
    "a"
   ]
  },
  {
   "cell_type": "code",
   "execution_count": null,
   "id": "91b1d51a",
   "metadata": {},
   "outputs": [],
   "source": [
    "captains = {\n",
    "    \"Enterprise\": \"Picard\",\n",
    "    \"Voyager\": \"Janeway\",\n",
    "    \"Defiant\": \"Sisko\",\n",
    "    \"Discovery\": \"unknown\",\n",
    "}\n",
    "\n",
    "# del captains[\"Discovery\"]"
   ]
  },
  {
   "cell_type": "code",
   "execution_count": null,
   "id": "7a29f19d",
   "metadata": {},
   "outputs": [],
   "source": [
    "captains"
   ]
  },
  {
   "cell_type": "code",
   "execution_count": null,
   "id": "f9bb7254",
   "metadata": {},
   "outputs": [],
   "source": [
    "captains.dict()"
   ]
  },
  {
   "cell_type": "code",
   "execution_count": null,
   "id": "58106160",
   "metadata": {},
   "outputs": [],
   "source": [
    "captains"
   ]
  },
  {
   "cell_type": "markdown",
   "id": "ada96693",
   "metadata": {},
   "source": [
    "# Control Flow Statements\n",
    "\n",
    "### Conditional Statements. Loops. Functions"
   ]
  },
  {
   "cell_type": "code",
   "execution_count": 10,
   "id": "eb159080",
   "metadata": {},
   "outputs": [],
   "source": [
    "### Single level condition\n",
    "### Multiple condition\n",
    "### Multi level condition\n"
   ]
  },
  {
   "cell_type": "code",
   "execution_count": 17,
   "id": "241c567f",
   "metadata": {},
   "outputs": [
    {
     "name": "stdout",
     "output_type": "stream",
     "text": [
      "number is not greator than 10\n"
     ]
    }
   ],
   "source": [
    "a = 10\n",
    "b = 5\n",
    "\n",
    "if a>10:\n",
    "    print(\"number is greator than 10\")\n",
    "else:\n",
    "    print(\"number is not greator than 10\")\n",
    "    "
   ]
  },
  {
   "cell_type": "code",
   "execution_count": 19,
   "id": "5f380b6f",
   "metadata": {},
   "outputs": [],
   "source": [
    "# (&) is used to save time as it will reduce execution timing\n",
    "# (and) is operator for logical reference and works directly without using brackets on condition\n",
    "# for OR operator we use |\n",
    "\n",
    "# (x|y)&z will execute with parenthesis first and then with z\n"
   ]
  },
  {
   "cell_type": "code",
   "execution_count": 20,
   "id": "2aef2088",
   "metadata": {},
   "outputs": [
    {
     "name": "stdout",
     "output_type": "stream",
     "text": [
      "greator than 5 but less than 10\n"
     ]
    }
   ],
   "source": [
    "# Multi level\n",
    "\n",
    "a=10\n",
    "b=15\n",
    "c=20\n",
    "\n",
    "if a>10:\n",
    "    print(\"Greator than 10\")\n",
    "elif a>5:\n",
    "    print(\"greator than 5 but less than 10\")\n",
    "elif a>2:\n",
    "    print('greator than 2 and less than five')\n",
    "else:\n",
    "    print('NULL')"
   ]
  },
  {
   "cell_type": "code",
   "execution_count": 25,
   "id": "24a4cc78",
   "metadata": {},
   "outputs": [
    {
     "name": "stdout",
     "output_type": "stream",
     "text": [
      "1\n",
      "4\n",
      "9\n",
      "16\n",
      "25\n",
      "36\n",
      "49\n",
      "64\n",
      "81\n",
      "100\n"
     ]
    }
   ],
   "source": [
    "i = 1\n",
    "while i<11:\n",
    "    sq=i*i\n",
    "    print(sq)\n",
    "    i=i+1\n",
    "    \n"
   ]
  },
  {
   "cell_type": "code",
   "execution_count": null,
   "id": "61320ceb",
   "metadata": {},
   "outputs": [
    {
     "name": "stdout",
     "output_type": "stream",
     "text": [
      "Enter the number u want square \n",
      "7\n"
     ]
    }
   ],
   "source": [
    "number = int(input(\"Enter the number u want square \\n\"))\n",
    "i = 1\n",
    "def Sq(number):\n",
    "    if number < 0:\n",
    "        return (\"Enter the valid number\")\n",
    "    else:\n",
    "        for i in range(1,number+1):\n",
    "            k = i*i\n",
    "        print(f\"The square of {number} is {Sq(number)}\")\n",
    "\n",
    "print(Sq(number))\n",
    "    \n",
    "    "
   ]
  },
  {
   "cell_type": "code",
   "execution_count": 25,
   "id": "5c41a5f0",
   "metadata": {},
   "outputs": [
    {
     "data": {
      "text/plain": [
       "array([ 1,  2,  3,  4,  5,  6,  7,  8,  9, 10])"
      ]
     },
     "execution_count": 25,
     "metadata": {},
     "output_type": "execute_result"
    }
   ],
   "source": [
    "import numpy as np\n",
    "\n",
    "np.arange(1, 11)"
   ]
  },
  {
   "cell_type": "code",
   "execution_count": 12,
   "id": "26d6d4ad",
   "metadata": {},
   "outputs": [
    {
     "name": "stdout",
     "output_type": "stream",
     "text": [
      "Enter the word u want to check  KJNJKM\n",
      "The number of lowercase characters is: 0\n",
      "The number of uppercase characters is: 6\n"
     ]
    }
   ],
   "source": [
    "name = input(\"Enter the word u want to check  \")\n",
    "\n",
    "\n",
    "Str=name\n",
    "lower=0\n",
    "upper=0\n",
    "for i in Str:\n",
    "      if(i.islower()):\n",
    "            lower+=1\n",
    "      else:\n",
    "            upper+=1\n",
    "print(\"The number of lowercase characters is:\",lower)\n",
    "print(\"The number of uppercase characters is:\",upper)\n",
    "\n",
    "\n",
    "    \n",
    "\n"
   ]
  },
  {
   "cell_type": "code",
   "execution_count": 22,
   "id": "5bd86de5",
   "metadata": {},
   "outputs": [
    {
     "name": "stdout",
     "output_type": "stream",
     "text": [
      "0\n",
      "4\n",
      "16\n",
      "36\n",
      "64\n",
      "100\n",
      "144\n",
      "196\n",
      "256\n",
      "324\n",
      "400\n",
      "484\n",
      "576\n",
      "676\n",
      "784\n",
      "900\n",
      "1024\n",
      "1156\n",
      "1296\n",
      "1444\n",
      "1600\n",
      "1764\n",
      "1936\n",
      "2116\n",
      "2304\n",
      "2500\n"
     ]
    }
   ],
   "source": [
    "i=1\n",
    "for i in range(0,51,2):\n",
    "    print(i*i)"
   ]
  },
  {
   "cell_type": "code",
   "execution_count": 28,
   "id": "bfe2d2bb",
   "metadata": {},
   "outputs": [
    {
     "name": "stdout",
     "output_type": "stream",
     "text": [
      "Square of 1 is 1\n",
      "Square of 2 is 4\n",
      "Square of 3 is 9\n",
      "Square of 4 is 16\n",
      "Square of 5 is 25\n",
      "Square of 6 is 36\n",
      "Square of 7 is 49\n",
      "Square of 8 is 64\n",
      "Square of 9 is 81\n",
      "Square of 10 is 100\n",
      "None\n"
     ]
    }
   ],
   "source": [
    "def square(num1, num2):\n",
    "    for i in np.arange(num1, num2+1):\n",
    "        print('Square of {} is {}'.format(i,i**2))\n",
    "print(square(1,10))"
   ]
  }
 ],
 "metadata": {
  "kernelspec": {
   "display_name": "Python 3 (ipykernel)",
   "language": "python",
   "name": "python3"
  },
  "language_info": {
   "codemirror_mode": {
    "name": "ipython",
    "version": 3
   },
   "file_extension": ".py",
   "mimetype": "text/x-python",
   "name": "python",
   "nbconvert_exporter": "python",
   "pygments_lexer": "ipython3",
   "version": "3.10.9"
  }
 },
 "nbformat": 4,
 "nbformat_minor": 5
}
