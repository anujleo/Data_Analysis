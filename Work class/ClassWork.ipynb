{
 "cells": [
  {
   "cell_type": "code",
   "execution_count": 16,
   "id": "309d472a",
   "metadata": {},
   "outputs": [],
   "source": [
    "import pandas as pd\n",
    "import numpy as np\n",
    "from sklearn import model_selection\n",
    "from sklearn import metrics\n",
    "import seaborn as sns\n",
    "\n"
   ]
  },
  {
   "cell_type": "code",
   "execution_count": 18,
   "id": "31cd5740",
   "metadata": {},
   "outputs": [
    {
     "name": "stdout",
     "output_type": "stream",
     "text": [
      "[[1 2 3]\n",
      " [2 5 6]]\n"
     ]
    }
   ],
   "source": [
    "mat = np.array([[1,2,3], [2,5,6]])\n",
    "print(mat)  \n",
    "\n",
    "# Tuple = () You cannot do modification on this.\n",
    "# List = [] You can do modification on this.\n",
    "# Set = ([]) Set is mytable but its element are immutable.\n",
    "# Mutable = something that can be changed or modified.\n",
    "# Dictionary = '''{} Dict is unordered collectuon of values stred as <key values> pair. A key in dictionary must be immutable and Unique'''"
   ]
  },
  {
   "cell_type": "code",
   "execution_count": 19,
   "id": "f4c36b2b",
   "metadata": {},
   "outputs": [
    {
     "data": {
      "text/plain": [
       "list"
      ]
     },
     "execution_count": 19,
     "metadata": {},
     "output_type": "execute_result"
    }
   ],
   "source": [
    "a = [1,2,3,4, 'abc', 'xyz']\n",
    "type(a)"
   ]
  },
  {
   "cell_type": "code",
   "execution_count": 22,
   "id": "be27df19",
   "metadata": {},
   "outputs": [
    {
     "data": {
      "text/plain": [
       "[1, 2, 3, 4, 'abc', 'xyz', 'abc', 'abc']"
      ]
     },
     "execution_count": 22,
     "metadata": {},
     "output_type": "execute_result"
    }
   ],
   "source": [
    "a.append('abc')\n",
    "a\n",
    "a.pop(5) #Defalut indexing of -1\n"
   ]
  },
  {
   "cell_type": "code",
   "execution_count": 23,
   "id": "3e2c3d72",
   "metadata": {},
   "outputs": [],
   "source": [
    "del a[5]"
   ]
  },
  {
   "cell_type": "code",
   "execution_count": 38,
   "id": "d32d1fc0",
   "metadata": {},
   "outputs": [
    {
     "data": {
      "text/plain": [
       "[1, 2, 3, 4, 'abc', 'abc']"
      ]
     },
     "execution_count": 38,
     "metadata": {},
     "output_type": "execute_result"
    }
   ],
   "source": [
    "a.insert(4, 'abc')\n",
    "a\n",
    "    "
   ]
  },
  {
   "cell_type": "code",
   "execution_count": 46,
   "id": "97398e33",
   "metadata": {},
   "outputs": [
    {
     "name": "stdout",
     "output_type": "stream",
     "text": [
      "[3, 6, 9, 12, 15]\n"
     ]
    }
   ],
   "source": [
    "a = [1, 2, 3, 4, 5]\n",
    "# multiplier = 3\n",
    "\n",
    "result = [x * 3 for x in a]\n",
    "\n",
    "print(result)\n"
   ]
  },
  {
   "cell_type": "code",
   "execution_count": 48,
   "id": "d3764b07",
   "metadata": {},
   "outputs": [
    {
     "data": {
      "text/plain": [
       "[[1, 2, 5], 8.5, 9.6, 'abc', [True, False]]"
      ]
     },
     "execution_count": 48,
     "metadata": {},
     "output_type": "execute_result"
    }
   ],
   "source": [
    "x = ([1,2,5], 8.5, 9.6, 'abc', [True, False]) #Tuple\n",
    "list(x) #converts into a list"
   ]
  },
  {
   "cell_type": "code",
   "execution_count": 70,
   "id": "a0b66f7d",
   "metadata": {},
   "outputs": [],
   "source": [
    "x = list(x)\n",
    "\n",
    "set(x)  #returns the unqiue numbers but error coming"
   ]
  },
  {
   "cell_type": "code",
   "execution_count": 54,
   "id": "9ed57992",
   "metadata": {},
   "outputs": [],
   "source": [
    "x = (8.5, 9.6, 'abc')"
   ]
  },
  {
   "cell_type": "code",
   "execution_count": 55,
   "id": "736d9fe9",
   "metadata": {},
   "outputs": [
    {
     "data": {
      "text/plain": [
       "{8.5, 9.6, 'abc'}"
      ]
     },
     "execution_count": 55,
     "metadata": {},
     "output_type": "execute_result"
    }
   ],
   "source": [
    "set(x)"
   ]
  },
  {
   "cell_type": "code",
   "execution_count": 60,
   "id": "992ae2ea",
   "metadata": {},
   "outputs": [
    {
     "data": {
      "text/plain": [
       "dict"
      ]
     },
     "execution_count": 60,
     "metadata": {},
     "output_type": "execute_result"
    }
   ],
   "source": [
    "x1 = {'id1' :8.5}\n",
    "type(x1)"
   ]
  },
  {
   "cell_type": "code",
   "execution_count": 71,
   "id": "4f87b96c",
   "metadata": {},
   "outputs": [
    {
     "data": {
      "text/plain": [
       "[1, 2, 3, 4, 5, True, 7, 8, 9, 10]"
      ]
     },
     "execution_count": 71,
     "metadata": {},
     "output_type": "execute_result"
    }
   ],
   "source": [
    "X5 = [1,2,3,4,5,6,7,8,9,10]\n",
    "X5[5] = True\n",
    "X5"
   ]
  },
  {
   "cell_type": "code",
   "execution_count": 74,
   "id": "5fc0f457",
   "metadata": {},
   "outputs": [
    {
     "data": {
      "text/plain": [
       "tuple"
      ]
     },
     "execution_count": 74,
     "metadata": {},
     "output_type": "execute_result"
    }
   ],
   "source": [
    "X5 = tuple(X5)\n",
    "type(X5)"
   ]
  },
  {
   "cell_type": "code",
   "execution_count": 76,
   "id": "eae57ef9",
   "metadata": {},
   "outputs": [
    {
     "data": {
      "text/plain": [
       "2244247514688"
      ]
     },
     "execution_count": 76,
     "metadata": {},
     "output_type": "execute_result"
    }
   ],
   "source": [
    "id(X5)"
   ]
  },
  {
   "cell_type": "code",
   "execution_count": 77,
   "id": "e2955b1a",
   "metadata": {},
   "outputs": [],
   "source": [
    "X6 = X5"
   ]
  },
  {
   "cell_type": "code",
   "execution_count": 84,
   "id": "98478ab3",
   "metadata": {},
   "outputs": [
    {
     "data": {
      "text/plain": [
       "(2244247514688, 2244247514688)"
      ]
     },
     "execution_count": 84,
     "metadata": {},
     "output_type": "execute_result"
    }
   ],
   "source": [
    "id(X6), id(X5)"
   ]
  }
 ],
 "metadata": {
  "kernelspec": {
   "display_name": "Python 3 (ipykernel)",
   "language": "python",
   "name": "python3"
  },
  "language_info": {
   "codemirror_mode": {
    "name": "ipython",
    "version": 3
   },
   "file_extension": ".py",
   "mimetype": "text/x-python",
   "name": "python",
   "nbconvert_exporter": "python",
   "pygments_lexer": "ipython3",
   "version": "3.10.9"
  }
 },
 "nbformat": 4,
 "nbformat_minor": 5
}
