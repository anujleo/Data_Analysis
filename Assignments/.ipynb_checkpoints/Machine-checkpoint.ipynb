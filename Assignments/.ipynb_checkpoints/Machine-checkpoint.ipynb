{
 "cells": [
  {
   "cell_type": "code",
   "execution_count": 1,
   "id": "c1254bdd",
   "metadata": {},
   "outputs": [],
   "source": [
    "import numpy as np"
   ]
  },
  {
   "cell_type": "code",
   "execution_count": 10,
   "id": "e3c94367",
   "metadata": {},
   "outputs": [],
   "source": [
    "u = np.array([3,4])\n",
    "v = np.array([30,40])"
   ]
  },
  {
   "cell_type": "code",
   "execution_count": 12,
   "id": "261327ea",
   "metadata": {
    "scrolled": true
   },
   "outputs": [
    {
     "name": "stdout",
     "output_type": "stream",
     "text": [
      "5.0\n",
      "50.0\n"
     ]
    }
   ],
   "source": [
    "# magnitude of vector\n",
    "\n",
    "print(np.linalg.norm(u))\n",
    "print(np.linalg.norm(v))"
   ]
  },
  {
   "cell_type": "code",
   "execution_count": 14,
   "id": "8570e0c7",
   "metadata": {},
   "outputs": [],
   "source": [
    "def direction(x):\n",
    "    return x/np.linalg.norm(x)"
   ]
  },
  {
   "cell_type": "code",
   "execution_count": 15,
   "id": "0db0402a",
   "metadata": {},
   "outputs": [
    {
     "name": "stdout",
     "output_type": "stream",
     "text": [
      "[0.6 0.8]\n",
      "[0.6 0.8]\n"
     ]
    }
   ],
   "source": [
    "w = direction(u)\n",
    "z = direction(v)\n",
    "print(w)\n",
    "print(z)"
   ]
  },
  {
   "cell_type": "code",
   "execution_count": 41,
   "id": "9b43edcc",
   "metadata": {},
   "outputs": [],
   "source": [
    "# Dot product/ projection of one vector on other, influence of one over the other\n",
    "\n",
    "import math\n",
    "\n",
    "def geometric_dot_product(x,y,theta):\n",
    "    x_norm = np.linalg.norm(x)\n",
    "    y_norm = np.linalg.norm(y)\n",
    "    return x_norm*y_norm*math.cos(math.radians(theta))"
   ]
  },
  {
   "cell_type": "code",
   "execution_count": null,
   "id": "573a7507",
   "metadata": {},
   "outputs": [],
   "source": []
  },
  {
   "cell_type": "code",
   "execution_count": 18,
   "id": "2459124a",
   "metadata": {},
   "outputs": [
    {
     "name": "stdout",
     "output_type": "stream",
     "text": [
      "24.041630560342625\n"
     ]
    }
   ],
   "source": [
    "theta = 60\n",
    "x = [3,5]\n",
    "y = [8,2]\n",
    "print(geometric_dot_product(x,y,theta))"
   ]
  },
  {
   "cell_type": "code",
   "execution_count": 42,
   "id": "93485fb1",
   "metadata": {},
   "outputs": [
    {
     "name": "stdout",
     "output_type": "stream",
     "text": [
      "34\n"
     ]
    }
   ],
   "source": [
    "def dot_product(X,y):\n",
    "    result = 0\n",
    "    for i in range (len(X)):\n",
    "        result = result + X[i]*y[i]\n",
    "    return (result)\n",
    "X = [3,5]\n",
    "y = [8,2]\n",
    "print(dot_product(X,y))\n"
   ]
  },
  {
   "cell_type": "code",
   "execution_count": 54,
   "id": "5e05a1b1",
   "metadata": {},
   "outputs": [
    {
     "name": "stdout",
     "output_type": "stream",
     "text": [
      "0.9999999999999997\n",
      "-0.949999999999999\n"
     ]
    },
    {
     "name": "stderr",
     "output_type": "stream",
     "text": [
      "C:\\Users\\ajeet\\AppData\\Local\\Temp\\ipykernel_19108\\845803165.py:6: FutureWarning: `rcond` parameter will change to the default of machine precision times ``max(M, N)`` where M and N are the input matrix dimensions.\n",
      "To use the future default and silence this warning we advise to pass `rcond=None`, to keep using the old, explicitly pass `rcond=-1`.\n",
      "  m, c = np.linalg.lstsq(A,y)[0]\n"
     ]
    }
   ],
   "source": [
    "# finding m i.e (variable function) in following Line\n",
    "\n",
    "X = np.array([0,1,2,3])\n",
    "y = np.array([-1,0.2,.9,2.1])\n",
    "A = np.vstack([X, np.ones(len(X))]).T\n",
    "m, c = np.linalg.lstsq(A,y)[0]\n",
    "print(m)\n",
    "print(c)"
   ]
  },
  {
   "cell_type": "code",
   "execution_count": 53,
   "id": "2812ae86",
   "metadata": {
    "scrolled": false
   },
   "outputs": [
    {
     "data": {
      "image/png": "[encoded data removed]",
      "text/plain": [
       "<Figure size 640x480 with 1 Axes>"
      ]
     },
     "metadata": {},
     "output_type": "display_data"
    }
   ],
   "source": [
    "import matplotlib.pyplot as plt\n",
    "\n",
    "plt.plot(X, m*X+c, 'b', label = 'line')\n",
    "plt.legend()\n",
    "plt.show()"
   ]
  }
 ],
 "metadata": {
  "kernelspec": {
   "display_name": "Python 3 (ipykernel)",
   "language": "python",
   "name": "python3"
  },
  "language_info": {
   "codemirror_mode": {
    "name": "ipython",
    "version": 3
   },
   "file_extension": ".py",
   "mimetype": "text/x-python",
   "name": "python",
   "nbconvert_exporter": "python",
   "pygments_lexer": "ipython3",
   "version": "3.10.9"
  }
 },
 "nbformat": 4,
 "nbformat_minor": 5
}
