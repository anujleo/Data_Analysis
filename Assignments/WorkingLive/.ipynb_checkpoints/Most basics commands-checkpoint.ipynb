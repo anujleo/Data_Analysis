{
 "cells": [
  {
   "cell_type": "code",
   "execution_count": 1,
   "id": "87a6e18b",
   "metadata": {},
   "outputs": [],
   "source": [
    "import pandas as pd\n",
    "import numpy as np\n",
    "from sklearn import model_selection\n",
    "from sklearn import metrics\n",
    "import seaborn as sns\n",
    "\n",
    "from sklearn.model_selection import cross_val_score\n",
    "from sklearn.linear_model import LogisticRegression\n",
    "from sklearn.naive_bayes import GaussianNB\n",
    "from sklearn.ensemble import RandomForestClassifier\n",
    "from sklearn.ensemble import VotingClassifier\n",
    "from sklearn.ensemble import BaggingClassifier\n",
    "from sklearn.tree import DecisionTreeClassifier"
   ]
  },
  {
   "cell_type": "code",
   "execution_count": 5,
   "id": "28271c5b",
   "metadata": {},
   "outputs": [],
   "source": [
    "data = pd.read_csv('Bank_Personal_Loan_Modelling.csv')"
   ]
  },
  {
   "cell_type": "code",
   "execution_count": 6,
   "id": "a91669b6",
   "metadata": {},
   "outputs": [
    {
     "data": {
      "text/plain": [
       "ID                    2.083750e+06\n",
       "Age                   1.314042e+02\n",
       "Experience            1.315140e+02\n",
       "Income                2.119104e+03\n",
       "ZIP Code              4.502257e+06\n",
       "Family                1.317130e+00\n",
       "CCAvg                 3.054312e+00\n",
       "Education             7.053801e-01\n",
       "Mortgage              1.034570e+04\n",
       "Personal Loan         8.680136e-02\n",
       "Securities Account    9.351934e-02\n",
       "CD Account            5.676319e-02\n",
       "Online                2.406779e-01\n",
       "CreditCard            2.076055e-01\n",
       "dtype: float64"
      ]
     },
     "execution_count": 6,
     "metadata": {},
     "output_type": "execute_result"
    }
   ],
   "source": [
    "data.var()"
   ]
  },
  {
   "cell_type": "code",
   "execution_count": null,
   "id": "4df9cde2",
   "metadata": {},
   "outputs": [],
   "source": [
    "data.shape"
   ]
  },
  {
   "cell_type": "code",
   "execution_count": null,
   "id": "6c9c6901",
   "metadata": {},
   "outputs": [],
   "source": [
    "data.columns.tolist()"
   ]
  },
  {
   "cell_type": "code",
   "execution_count": null,
   "id": "113643e3",
   "metadata": {},
   "outputs": [],
   "source": [
    "data.dtypes"
   ]
  },
  {
   "cell_type": "code",
   "execution_count": null,
   "id": "8a1f2f13",
   "metadata": {},
   "outputs": [],
   "source": [
    "data.sample(10)"
   ]
  },
  {
   "cell_type": "code",
   "execution_count": null,
   "id": "47bae4a9",
   "metadata": {},
   "outputs": [],
   "source": [
    "data.describe().transpose()"
   ]
  },
  {
   "cell_type": "code",
   "execution_count": null,
   "id": "2bf557dc",
   "metadata": {},
   "outputs": [],
   "source": [
    "# GIVES OUT SECOND ROW OF CDATA TABLE\n",
    "\n",
    "cData.iloc[2]"
   ]
  },
  {
   "cell_type": "code",
   "execution_count": null,
   "id": "4e75fa46",
   "metadata": {},
   "outputs": [],
   "source": [
    "data['Experience']=data['Experience'].abs()\n",
    "# gives mod on value, all negative value will be converted into positives value"
   ]
  },
  {
   "cell_type": "code",
   "execution_count": null,
   "id": "16acd408",
   "metadata": {},
   "outputs": [],
   "source": [
    "data[\"Personal Loan\"].value_counts()"
   ]
  },
  {
   "cell_type": "code",
   "execution_count": null,
   "id": "a2cb754c",
   "metadata": {},
   "outputs": [],
   "source": [
    "data.corr()"
   ]
  },
  {
   "cell_type": "code",
   "execution_count": null,
   "id": "7dbd0712",
   "metadata": {},
   "outputs": [],
   "source": [
    "data.isnull().sum()"
   ]
  },
  {
   "cell_type": "code",
   "execution_count": null,
   "id": "bef4ae69",
   "metadata": {},
   "outputs": [],
   "source": [
    "# PAILPLOT\n",
    "\n",
    "sns.pairplot(cData_attr, diag_kind='kde')"
   ]
  },
  {
   "cell_type": "code",
   "execution_count": null,
   "id": "a8c3cee3",
   "metadata": {},
   "outputs": [],
   "source": [
    "data.fillna(data.median(), inplace =  True )\n",
    "# use to fill NA values by median of that column\n"
   ]
  },
  {
   "cell_type": "code",
   "execution_count": null,
   "id": "c7e1870b",
   "metadata": {},
   "outputs": [],
   "source": [
    "# converting the hp column from object / string type to float\n",
    "\n",
    "cData['horsepower'] = cData['horsepower'].astype('float64')  "
   ]
  },
  {
   "cell_type": "code",
   "execution_count": null,
   "id": "e809b6ad",
   "metadata": {},
   "outputs": [],
   "source": [
    "for feature in data.columns: # Loop through all columns in the dataframe\n",
    "    if data[feature].dtype == 'object': # Only apply for columns with categorical strings\n",
    "        data[feature] = pd.Categorical(data[feature])# Replace strings with an integer\n",
    "data.head(10)"
   ]
  },
  {
   "cell_type": "code",
   "execution_count": null,
   "id": "52207fff",
   "metadata": {},
   "outputs": [],
   "source": [
    "data = data.replace({\n",
    "                \"checking_balance\":     {\"< 0 DM\": 1, \"1 - 200 DM\": 2 ,\"> 200 DM\": 3 ,\"unknown\":-1},\n",
    "                \"credit_history\": {\"critical\": 1, \"poor\":2 , \"good\": 3, \"very good\": 4,\"perfect\": 5},\n",
    "                 \"savings_balance\": {\"< 100 DM\": 1, \"100 - 500 DM\":2 , \"500 - 1000 DM\": 3, \"> 1000 DM\": 4,\"unknown\": -1},\n",
    "                 \"employment_duration\":     {\"unemployed\": 1, \"< 1 year\": 2 ,\"1 - 4 years\": 3 ,\"4 - 7 years\": 4 ,\"> 7 years\": 5},\n",
    "                \"phone\":     {\"no\": 1, \"yes\": 2 },\n",
    "                #\"job\":     {\"unemployed\": 1, \"unskilled\": 2, \"skilled\": 3, \"management\": 4 },\n",
    "                \"default\":     {\"no\": 0, \"yes\": 1 })\n",
    "    \n",
    "#     Used to replace the cell values into something else, here we replaced categorical data into integers."
   ]
  },
  {
   "cell_type": "code",
   "execution_count": null,
   "id": "a8f1c734",
   "metadata": {},
   "outputs": [],
   "source": [
    "data=pd.get_dummies(Data, columns=[\"purpose\",\"housing\",\"other_credit\",\"job\"])\n",
    "\n",
    "# splits the different variables into different columns. "
   ]
  },
  {
   "cell_type": "code",
   "execution_count": null,
   "id": "0d9931bc",
   "metadata": {},
   "outputs": [],
   "source": [
    "# dropping\n",
    "\n",
    "X = df.drop(['species'], axis=1)\n",
    "y = df['species']"
   ]
  },
  {
   "cell_type": "code",
   "execution_count": 4,
   "id": "823a2def",
   "metadata": {},
   "outputs": [],
   "source": [
    "# SPILTTING for test train\n",
    "\n",
    "from sklearn.model_selection import train_test_split\n",
    "X_train, X_test, y_train, y_test = train_test_split(X,y,test_size=.33,random_state=42)\n"
   ]
  },
  {
   "cell_type": "markdown",
   "id": "71d0ac16",
   "metadata": {},
   "source": [
    "# LOGISTIC REGRESSION"
   ]
  },
  {
   "cell_type": "code",
   "execution_count": null,
   "id": "e2e2d3cf",
   "metadata": {},
   "outputs": [],
   "source": [
    "from sklearn import metrics\n",
    "from sklearn.linear_model import LogisticRegression\n",
    "\n",
    "model = LogisticRegression(solver= \"liblinear\")\n",
    "model.fit(x_train, y_train)\n",
    "\n",
    "# SCORE\n",
    "model_score = model.score(x_test, y_test)\n",
    "print(model_score)\n",
    "\n",
    "# PREDICT\n",
    "y_predict = model.predict(x_test)\n",
    "\n",
    "\n",
    "# TO KNOW COEFFICIENTS\n",
    "coef_df = pd.DataFrame(model.coef_)\n",
    "coef_df['intercept'] = model.intercept_\n",
    "print(coef_df)\n",
    "\n",
    "# CONFUSION MATRIX\n",
    "from sklearn import metrics\n",
    "print(metrics.confusion_matrix(y_test, y_test))\n",
    "\n",
    "# CLASSIFICATION REPORTS\n",
    "print(metrics.classification_report(y_test, y_predict))"
   ]
  },
  {
   "cell_type": "markdown",
   "id": "c4f987bf",
   "metadata": {},
   "source": [
    "# KNN CLASSIFIERS"
   ]
  },
  {
   "cell_type": "code",
   "execution_count": null,
   "id": "0e60323e",
   "metadata": {},
   "outputs": [],
   "source": [
    "from sklearn.neighbors import KNeighborsClassifier\n",
    "NNH = KNeighborsClassifier(n_neighbors=3)\n",
    "NNH.fit(x_train, y_train)\n",
    "predicted_labels = NNH.predict(x_test)\n",
    "\n",
    "# CONFUSION MATRIX\n",
    "metrics.confusion_matrix(y_test, predicted_labels)"
   ]
  },
  {
   "cell_type": "markdown",
   "id": "d80d295c",
   "metadata": {},
   "source": [
    "# SCALING OR PREPROCESSING"
   ]
  },
  {
   "cell_type": "code",
   "execution_count": null,
   "id": "d69311a2",
   "metadata": {},
   "outputs": [],
   "source": [
    "from sklearn import preprocessing \n",
    "x_train_scaled = preprocessing.scale(x_train)\n",
    "x_test_scaled = preprocessing.scale(x_test)\n",
    "\n",
    "# LATER USE SCALED TRAIN DATA ON LOGISTIC OR KNN IT MIGHT HAVE INCREASED MADEL SCORE"
   ]
  },
  {
   "cell_type": "markdown",
   "id": "e7bb0bd4",
   "metadata": {},
   "source": [
    "# CONFUSION MATRIX VISUAL HEATMAP"
   ]
  },
  {
   "cell_type": "code",
   "execution_count": null,
   "id": "b76a3115",
   "metadata": {},
   "outputs": [],
   "source": [
    "cm=metrics.confusion_matrix(y_test, predicted_labels, labels=[1, 0])\n",
    "\n",
    "df_cm = pd.DataFrame(cm, index = [i for i in [\"1\",\"0\"]],\n",
    "                  columns = [i for i in [\"Predict 1\",\"Predict 0\"]])\n",
    "plt.figure(figsize = (7,5))\n",
    "sns.heatmap(df_cm, annot=True)"
   ]
  },
  {
   "cell_type": "markdown",
   "id": "71b69ba5",
   "metadata": {},
   "source": [
    "# DECISION TREE"
   ]
  },
  {
   "cell_type": "code",
   "execution_count": null,
   "id": "f3610caa",
   "metadata": {},
   "outputs": [],
   "source": [
    "# DECISION TREE ALGO FIT (YOU ARE EXPECTED TO SPLIT DATA BEFORE DOING THIS)\n",
    "from sklearn.tree import DecisionTreeClassifier\n",
    "dTreeR = DecisionTreeClassifier(criterion = 'gini', max_depth = 3, random_state=1)\n",
    "dTreeR.fit(X_train, y_train)\n",
    "\n",
    "# SCORE\n",
    "print(dTreeR.score(X_train, y_train))\n",
    "print(dTreeR.score(X_test, y_test))\n",
    "\n",
    "\n",
    "\n",
    "# DECISON TREE VISUALIZATION\n",
    "from sklearn import tree\n",
    "plt.figure(figsize=(15,10))\n",
    "tree.plot_tree(treemodel,filled= True)\n",
    "\n",
    "# importance of features in the tree building ( The importance of a feature is computed as the \n",
    "#(normalized) total reduction of the criterion brought by that feature. It is also known as the Gini importance )\n",
    "print (pd.DataFrame(dTreeR.feature_importances_, columns = [\"Imp\"], index = X_train.columns))"
   ]
  },
  {
   "cell_type": "markdown",
   "id": "a4be6118",
   "metadata": {},
   "source": [
    "# LINEAR REGRESSION"
   ]
  },
  {
   "cell_type": "code",
   "execution_count": null,
   "id": "e0e7e291",
   "metadata": {},
   "outputs": [],
   "source": [
    "# DATA MANIPULATION FIRST\n",
    "\n",
    "# isdigit()? on 'horsepower' (HORSEPOWER IS COLUMNS)\n",
    "# WE ARE REMOVING ANY ENTRY(STRING) IN COLUMN THAT HAS VALUE OTHER THAN DIGIT\n",
    "hpIsDigit = pd.DataFrame(cData.horsepower.str.isdigit())  # if the string is made of digits store True else False\n",
    "\n",
    "#print isDigit = False!\n",
    "cData[hpIsDigit['horsepower'] == False]   # from temp take only those rows where hp has false\n",
    "\n",
    "\n",
    "# NOW CHANGING 'NON INTEGER' INTO 'NAN'\n",
    "cData = cData.replace('?', np.nan)\n",
    "cData[hpIsDigit['horsepower'] == False] "
   ]
  },
  {
   "cell_type": "code",
   "execution_count": null,
   "id": "caafff8f",
   "metadata": {},
   "outputs": [],
   "source": [
    "# replace the missing values with median value.\n",
    "# Note, we do not need to specify the column names below\n",
    "# every column's missing value is replaced with that column's median respectively  (axis =0 means columnwise)\n",
    "#cData = cData.fillna(cData.median())\n",
    "\n",
    "medianFiller = lambda x: x.fillna(x.median())\n",
    "cData = cData.apply(medianFiller,axis=0)\n",
    "\n",
    "cData['horsepower'] = cData['horsepower'].astype('float64')  # converting the hp column from object / string type to float"
   ]
  },
  {
   "cell_type": "code",
   "execution_count": null,
   "id": "76ee6fda",
   "metadata": {},
   "outputs": [],
   "source": [
    "# FIT DATA\n",
    "\n",
    "regression_model = LinearRegression()\n",
    "regression_model.fit(X_train, y_train)\n",
    "\n",
    "# COEFFICIENTS\n",
    "\n",
    "for idx, col_name in enumerate(X_train.columns):\n",
    "    print(\"The coefficient for {} is {}\".format(col_name, regression_model.coef_[0][idx]))\n",
    "    \n",
    "# INTERCEPT\n",
    "\n",
    "intercept = regression_model.intercept_[0]\n",
    "print(\"The intercept for our model is {}\".format(intercept))\n",
    "\n",
    "# MODEL SCORE (TRAIN ONLY)\n",
    "regression_model.score(X_train, y_train)\n",
    "\n",
    "# MODEL SCORE (TEST ONLY)\n",
    "regression_model.score(X_test, y_test)"
   ]
  },
  {
   "cell_type": "code",
   "execution_count": null,
   "id": "ccbd8fa4",
   "metadata": {},
   "outputs": [],
   "source": [
    "# ADDING INTERACTIVE VARIABLES TO INCREASE MODEL SCORE\n",
    "\n",
    "\n",
    "from sklearn.preprocessing import PolynomialFeatures\n",
    "from sklearn import linear_model\n",
    "\n",
    "poly = PolynomialFeatures(degree=2, interaction_only=True)\n",
    "X_train2 = poly.fit_transform(X_train)\n",
    "X_test2 = poly.fit_transform(X_test)\n",
    "\n",
    "poly_clf = linear_model.LinearRegression()\n",
    "\n",
    "poly_clf.fit(X_train2, y_train)\n",
    "\n",
    "y_pred = poly_clf.predict(X_test2)\n",
    "\n",
    "print(y_pred)\n",
    "\n",
    "# #In sample (training) R^2 will always improve with the number of variables!\n",
    "# print(poly_clf.score(X_train2, y_train))"
   ]
  },
  {
   "cell_type": "code",
   "execution_count": null,
   "id": "4ccb2090",
   "metadata": {},
   "outputs": [],
   "source": [
    "# POSTING INTREACTIVE VARIABLE ADDITION WE CHECK R^2 SCORE\n",
    "\n",
    "print(poly_clf.score(X_test2, y_test))\n",
    "\n",
    "# AFTER THIS WE CHECK NUMBER OF VARIABLE ADDED (ADDING VARIABLE INCREASES COMPLEXITY OF DATA)\n",
    "\n",
    "print(X_train.shape)\n",
    "print(X_train2.shape)"
   ]
  }
 ],
 "metadata": {
  "kernelspec": {
   "display_name": "Python 3 (ipykernel)",
   "language": "python",
   "name": "python3"
  },
  "language_info": {
   "codemirror_mode": {
    "name": "ipython",
    "version": 3
   },
   "file_extension": ".py",
   "mimetype": "text/x-python",
   "name": "python",
   "nbconvert_exporter": "python",
   "pygments_lexer": "ipython3",
   "version": "3.10.9"
  }
 },
 "nbformat": 4,
 "nbformat_minor": 5
}
