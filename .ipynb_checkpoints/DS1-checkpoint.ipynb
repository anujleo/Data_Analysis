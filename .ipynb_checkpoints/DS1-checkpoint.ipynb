{
 "cells": [
  {
   "cell_type": "code",
   "execution_count": 5,
   "id": "719510d5",
   "metadata": {},
   "outputs": [
    {
     "name": "stdout",
     "output_type": "stream",
     "text": [
      "HEllo WOrld\n"
     ]
    }
   ],
   "source": [
    "print (\"HEllo WOrld\")"
   ]
  },
  {
   "cell_type": "code",
   "execution_count": null,
   "id": "9f2d2349",
   "metadata": {},
   "outputs": [],
   "source": []
  },
  {
   "cell_type": "code",
   "execution_count": 6,
   "id": "85a8e42d",
   "metadata": {},
   "outputs": [
    {
     "name": "stdout",
     "output_type": "stream",
     "text": [
      "Hlo\n"
     ]
    }
   ],
   "source": [
    "print (\"Hlo\")"
   ]
  },
  {
   "cell_type": "code",
   "execution_count": 2,
   "id": "21676b6b",
   "metadata": {},
   "outputs": [
    {
     "name": "stdout",
     "output_type": "stream",
     "text": [
      "-1.0\n"
     ]
    }
   ],
   "source": [
    "import numpy as np\n",
    "import pandas as pd\n",
    "\n",
    "print (np.cos(np.pi))"
   ]
  },
  {
   "cell_type": "code",
   "execution_count": 8,
   "id": "f4e5a035",
   "metadata": {},
   "outputs": [
    {
     "name": "stdout",
     "output_type": "stream",
     "text": [
      "-1.0\n"
     ]
    }
   ],
   "source": [
    "#  Normal commands\n",
    "\n",
    "print (np.cos(np.pi))"
   ]
  },
  {
   "cell_type": "code",
   "execution_count": 11,
   "id": "63c67b7a",
   "metadata": {},
   "outputs": [
    {
     "name": "stdout",
     "output_type": "stream",
     "text": [
      "1.1\n",
      "5.2\n"
     ]
    }
   ],
   "source": [
    "#  Normal commands\n",
    "\n",
    "print (np.sqrt(1.21))\n",
    "print (np.log(np.exp(5.2)))"
   ]
  },
  {
   "cell_type": "code",
   "execution_count": 13,
   "id": "fba87d47",
   "metadata": {},
   "outputs": [
    {
     "name": "stdout",
     "output_type": "stream",
     "text": [
      "[1 2 3]\n"
     ]
    }
   ],
   "source": [
    "# NOrmal Arrays\n",
    "\n",
    "vec = np.array([1,2,3])\n",
    "print (vec)"
   ]
  },
  {
   "cell_type": "code",
   "execution_count": 3,
   "id": "e90f0952",
   "metadata": {},
   "outputs": [
    {
     "name": "stdout",
     "output_type": "stream",
     "text": [
      " \n",
      "[[1 2 1]\n",
      " [4 5 9]]\n",
      " \n",
      "[[1 4]\n",
      " [2 5]\n",
      " [1 9]]\n"
     ]
    }
   ],
   "source": [
    "# Creating arrays and transposing\n",
    "\n",
    "mat = np.array([[1, 2, 1], [4,5,9]])\n",
    "print (' ')\n",
    "print (mat)\n",
    "print (' ')\n",
    "print (mat.T)"
   ]
  },
  {
   "cell_type": "code",
   "execution_count": 16,
   "id": "df5fa9b4",
   "metadata": {},
   "outputs": [
    {
     "name": "stdout",
     "output_type": "stream",
     "text": [
      "[ 0  1  2  3  4  5  6  7  8  9 10 11 12 13 14]\n",
      " \n",
      "[ 3  9 15]\n"
     ]
    }
   ],
   "source": [
    "# other ways to create arrays\n",
    "#  in vec2 it is 0 to 14 while in vec3 it is 3 to 20 but skipping every 6th)\n",
    "\n",
    "vec2 = np.arange(0,15)\n",
    "print(vec2)\n",
    "print(' ')\n",
    "vec3 = np.arange(3,21,6)\n",
    "print(vec3)\n"
   ]
  },
  {
   "cell_type": "code",
   "execution_count": 19,
   "id": "7e9e9da0",
   "metadata": {},
   "outputs": [
    {
     "name": "stdout",
     "output_type": "stream",
     "text": [
      "[0.         0.55555556 1.11111111 1.66666667 2.22222222 2.77777778\n",
      " 3.33333333 3.88888889 4.44444444 5.        ]\n",
      " \n",
      "[[0.         0.55555556]\n",
      " [1.11111111 1.66666667]\n",
      " [2.22222222 2.77777778]\n",
      " [3.33333333 3.88888889]\n",
      " [4.44444444 5.        ]]\n"
     ]
    }
   ],
   "source": [
    "'''Linpace command creates the array with some equal spaces, it consist 3 commands where 0 till 5 is range\n",
    "and there should be 10 points between them which have common difference, basically AP. \n",
    "'''\n",
    "# Reshape is changing its matrix here with 5 rows and 2 coloumns\n",
    "\n",
    "\n",
    "vec4 = np.linspace(0, 5, 10)\n",
    "print(vec4)\n",
    "print(' ')\n",
    "print(vec4.reshape(5,2))\n"
   ]
  },
  {
   "cell_type": "code",
   "execution_count": 11,
   "id": "b3e250d2",
   "metadata": {},
   "outputs": [
    {
     "name": "stdout",
     "output_type": "stream",
     "text": [
      "[ 0.95441756  0.67666993 -1.81576823  0.08718844 -1.67817213  0.681019\n",
      " -0.67061724 -0.25516906 -0.67958538 -0.94504319  0.28383685  1.26825511\n",
      "  1.06107974  1.21135302 -1.02109058 -0.10432613  0.57547769 -0.5123049\n",
      "  1.62257162]\n",
      "-0.6706172355535563\n"
     ]
    }
   ],
   "source": [
    "# how do we access entries in numpy\n",
    "\n",
    "rand_vec =  np.random.randn(19)\n",
    "print(rand_vec)\n",
    "print(rand_vec[6])\n"
   ]
  },
  {
   "cell_type": "code",
   "execution_count": 7,
   "id": "c454b21a",
   "metadata": {},
   "outputs": [
    {
     "name": "stdout",
     "output_type": "stream",
     "text": [
      "[-0.79985532 -1.02856355 -1.35884313]\n"
     ]
    }
   ],
   "source": [
    "#  access multiple entries\n",
    "#  below command 6 is inclusive and 9 is eclusive\n",
    "\n",
    "print(rand_vec[6:9])"
   ]
  },
  {
   "cell_type": "code",
   "execution_count": 9,
   "id": "c8920ce1",
   "metadata": {},
   "outputs": [
    {
     "name": "stdout",
     "output_type": "stream",
     "text": [
      "[ 0  3  6  9 12]\n",
      "[-2.65096085 -0.81023336 -0.79985532  0.07635598 -0.17341811]\n"
     ]
    }
   ],
   "source": [
    "# Given 0,3,6,9,12 are just inde location, which will trigger rand_vec index location\n",
    "\n",
    "print(np.arange(0,15,3))\n",
    "print(rand_vec[np.arange(0,15,3)])\n"
   ]
  },
  {
   "cell_type": "code",
   "execution_count": 7,
   "id": "e89e276f",
   "metadata": {},
   "outputs": [
    {
     "name": "stdout",
     "output_type": "stream",
     "text": [
      "[[ 8 14 13  1  7]\n",
      " [ 8  6 13  8 13]\n",
      " [10 12  6  8 11]\n",
      " [14  3  3 10  6]\n",
      " [ 9  3  2  9  6]]\n",
      " \n",
      "13\n",
      " \n",
      "13\n",
      " \n",
      "[ 8  6 13  8 13] [2]\n"
     ]
    }
   ],
   "source": [
    "# First one is random matrix creation\n",
    "# second is 2nd ROW and 1st Coloumn\n",
    "# Third is same as second\n",
    "# Fourth is whole second row and 2 written is telling row number\n",
    "\n",
    "\n",
    "rand_mat = np.random.randint(1, 15, (5, 5))\n",
    "print(rand_mat)\n",
    "print(\" \")\n",
    "print(rand_mat [1] [2])  \n",
    "print(\" \")\n",
    "print(rand_mat[1,2])\n",
    "print(\" \")\n",
    "print(rand_mat [1], [2])"
   ]
  },
  {
   "cell_type": "code",
   "execution_count": 8,
   "id": "f22da3f5",
   "metadata": {},
   "outputs": [
    {
     "name": "stdout",
     "output_type": "stream",
     "text": [
      "[[14 13]\n",
      " [ 6 13]]\n"
     ]
    }
   ],
   "source": [
    "print  (rand_mat[0:2,1:3])"
   ]
  },
  {
   "cell_type": "code",
   "execution_count": 12,
   "id": "634aa672",
   "metadata": {},
   "outputs": [
    {
     "name": "stdout",
     "output_type": "stream",
     "text": [
      "[ 0.95441756  0.67666993 -1.81576823  4.          4.          0.681019\n",
      " -0.67061724 -0.25516906 -0.67958538 -0.94504319  0.28383685  1.26825511\n",
      "  1.06107974  1.21135302 -1.02109058 -0.10432613  0.57547769 -0.5123049\n",
      "  1.62257162]\n",
      "\n",
      "\n",
      "[ 0.95441756  0.67666993 -1.81576823  1.          2.          3.\n",
      " -0.67061724 -0.25516906 -0.67958538 -0.94504319  0.28383685  1.26825511\n",
      "  1.06107974  1.21135302 -1.02109058 -0.10432613  0.57547769 -0.5123049\n",
      "  1.62257162]\n"
     ]
    }
   ],
   "source": [
    "rand_vec[3:5] = 4\n",
    "print(rand_vec)\n",
    "print(\"\")\n",
    "rand_vec[3:6]= [1,2,3]\n",
    "print('')\n",
    "print(rand_vec)"
   ]
  },
  {
   "cell_type": "code",
   "execution_count": 35,
   "id": "34957432",
   "metadata": {},
   "outputs": [
    {
     "name": "stdout",
     "output_type": "stream",
     "text": [
      "\n",
      "[[13  1  1  4 13]\n",
      " [ 5 11  0  1  1]\n",
      " [ 5  4  0  9  6]\n",
      " [ 1 12  5  9 11]\n",
      " [ 6 10 12  6  4]]\n"
     ]
    }
   ],
   "source": [
    "rand_mat[1:3, 2:3] = 0\n",
    "print('')\n",
    "print(rand_mat)"
   ]
  },
  {
   "cell_type": "code",
   "execution_count": 14,
   "id": "2edc24a3",
   "metadata": {},
   "outputs": [
    {
     "name": "stdout",
     "output_type": "stream",
     "text": [
      "[ 0.45244298  0.64281849 -0.1051446   0.25944655 -0.43372973  0.918057\n",
      "  0.44750101  1.27191201  0.22847178  0.44578085  0.69536925 -0.60445014\n",
      " -0.7252104   1.7512299  -1.30768616]\n",
      "[ True  True False  True False  True  True  True  True  True  True False\n",
      " False  True False]\n",
      "[0.45244298 0.64281849 0.25944655 0.918057   0.44750101 1.27191201\n",
      " 0.22847178 0.44578085 0.69536925 1.7512299 ]\n"
     ]
    }
   ],
   "source": [
    "# accessing entries with logical\n",
    "# results me dekh jaha jaha false aya usne value skip kr di\n",
    "\n",
    "rand_vec = np.random.randn(15)\n",
    "print(rand_vec)\n",
    "print(rand_vec>0)\n",
    "print(rand_vec[rand_vec>0])"
   ]
  },
  {
   "cell_type": "code",
   "execution_count": 25,
   "id": "564b421a",
   "metadata": {
    "scrolled": true
   },
   "outputs": [
    {
     "name": "stdout",
     "output_type": "stream",
     "text": [
      "[[23 12  5 23  5]\n",
      " [ 9 17  0  3 19]\n",
      " [14 11  4 13  6]\n",
      " [ 3  4  1  5 10]\n",
      " [12 15 17  9 13]\n",
      " [ 2 12 23  2  7]\n",
      " [11  9 19 15 17]\n",
      " [19 19  5 15  5]\n",
      " [ 8 11 11 18  2]\n",
      " [23 14 11 14 11]]\n",
      " \n",
      "[23 12 23  9 17 19 14 11 13 10 12 15 17  9 13 12 23 11  9 19 15 17 19 19\n",
      " 15 11 11 18 23 14 11 14 11]\n"
     ]
    }
   ],
   "source": [
    "rand_mat2 = np.random.randint(0,25, (10, 5))\n",
    "print(rand_mat2)\n",
    "print(\" \")\n",
    "print(rand_mat2[rand_mat2>8])"
   ]
  },
  {
   "cell_type": "code",
   "execution_count": 28,
   "id": "b59a7130",
   "metadata": {},
   "outputs": [
    {
     "name": "stdout",
     "output_type": "stream",
     "text": [
      "[ 0.45244298  0.64281849 -0.1051446   0.25944655 -0.43372973  0.918057\n",
      "  0.44750101  1.27191201  0.22847178  0.44578085  0.69536925 -0.60445014\n",
      " -0.7252104   1.7512299  -1.30768616]\n",
      "[-91.         -91.          -0.1051446  -91.          -0.43372973\n",
      " -91.         -91.         -91.         -91.         -91.\n",
      " -91.          -0.60445014  -0.7252104  -91.          -1.30768616]\n"
     ]
    }
   ],
   "source": [
    "print(rand_vec)\n",
    "rand_vec[rand_vec>0] = -91\n",
    "print(rand_vec)"
   ]
  },
  {
   "cell_type": "code",
   "execution_count": 33,
   "id": "9679ca8c",
   "metadata": {},
   "outputs": [],
   "source": [
    "# single file save\n",
    "\n",
    "np.save('Save_file_mat', rand_mat2)\n",
    "\n",
    "# multiple save files\n",
    "\n",
    "np.savez('zipped_file_name', rand_mat=rand_mat, rand_mat2=rand_mat2)"
   ]
  },
  {
   "cell_type": "code",
   "execution_count": 36,
   "id": "e12cbade",
   "metadata": {},
   "outputs": [
    {
     "name": "stdout",
     "output_type": "stream",
     "text": [
      "[[23 12  5 23  5]\n",
      " [ 9 17  0  3 19]\n",
      " [14 11  4 13  6]\n",
      " [ 3  4  1  5 10]\n",
      " [12 15 17  9 13]\n",
      " [ 2 12 23  2  7]\n",
      " [11  9 19 15 17]\n",
      " [19 19  5 15  5]\n",
      " [ 8 11 11 18  2]\n",
      " [23 14 11 14 11]]\n",
      " \n",
      "<numpy.lib.npyio.NpzFile object at 0x00000262E40DC100>\n"
     ]
    }
   ],
   "source": [
    "# lets load it\n",
    "\n",
    "loaded_vec = np.load('Save_file_mat.npy')\n",
    "loaded_zip = np.load('zipped_file_name.npz')\n",
    "\n",
    "print(loaded_vec)\n",
    "print(\" \")\n",
    "print(loaded_zip)\n",
    "\n",
    "# u see it didnt loaded. shows some sentence shit"
   ]
  },
  {
   "cell_type": "code",
   "execution_count": 42,
   "id": "18e4f031",
   "metadata": {},
   "outputs": [
    {
     "name": "stdout",
     "output_type": "stream",
     "text": [
      "[[ 8 14 13  1  7]\n",
      " [ 8  6 13  8 13]\n",
      " [10 12  6  8 11]\n",
      " [14  3  3 10  6]\n",
      " [ 9  3  2  9  6]]\n",
      " \n",
      "[[23 12  5 23  5]\n",
      " [ 9 17  0  3 19]\n",
      " [14 11  4 13  6]\n",
      " [ 3  4  1  5 10]\n",
      " [12 15 17  9 13]\n",
      " [ 2 12 23  2  7]\n",
      " [11  9 19 15 17]\n",
      " [19 19  5 15  5]\n",
      " [ 8 11 11 18  2]\n",
      " [23 14 11 14 11]]\n",
      " \n",
      "[[ 8 14 13  1  7]\n",
      " [ 8  6 13  8 13]\n",
      " [10 12  6  8 11]\n",
      " [14  3  3 10  6]\n",
      " [ 9  3  2  9  6]]\n"
     ]
    }
   ],
   "source": [
    "# lets open that zip file\n",
    "\n",
    "print(loaded_zip['rand_mat'])\n",
    "print(\" \")\n",
    "print(loaded_zip['rand_mat2'])\n",
    "print(\" \")\n",
    "new_array = loaded_zip['rand_mat']\n",
    "print(new_array)"
   ]
  }
 ],
 "metadata": {
  "kernelspec": {
   "display_name": "Python 3 (ipykernel)",
   "language": "python",
   "name": "python3"
  },
  "language_info": {
   "codemirror_mode": {
    "name": "ipython",
    "version": 3
   },
   "file_extension": ".py",
   "mimetype": "text/x-python",
   "name": "python",
   "nbconvert_exporter": "python",
   "pygments_lexer": "ipython3",
   "version": "3.10.9"
  }
 },
 "nbformat": 4,
 "nbformat_minor": 5
}
