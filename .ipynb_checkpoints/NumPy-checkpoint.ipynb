{
 "cells": [
  {
   "cell_type": "code",
   "execution_count": 2,
   "id": "719510d5",
   "metadata": {},
   "outputs": [
    {
     "name": "stdout",
     "output_type": "stream",
     "text": [
      "HEllo WOrld\n"
     ]
    }
   ],
   "source": [
    "print (\"HEllo WOrld\")"
   ]
  },
  {
   "cell_type": "code",
   "execution_count": null,
   "id": "f5056a1f",
   "metadata": {},
   "outputs": [],
   "source": []
  },
  {
   "cell_type": "code",
   "execution_count": null,
   "id": "9f2d2349",
   "metadata": {},
   "outputs": [],
   "source": []
  },
  {
   "cell_type": "code",
   "execution_count": 3,
   "id": "85a8e42d",
   "metadata": {},
   "outputs": [
    {
     "name": "stdout",
     "output_type": "stream",
     "text": [
      "Hlo\n"
     ]
    }
   ],
   "source": [
    "print (\"Hlo\")"
   ]
  },
  {
   "cell_type": "code",
   "execution_count": 4,
   "id": "21676b6b",
   "metadata": {},
   "outputs": [
    {
     "name": "stdout",
     "output_type": "stream",
     "text": [
      "-1.0\n"
     ]
    }
   ],
   "source": [
    "import numpy as np\n",
    "import pandas as pd\n",
    "\n",
    "print (np.cos(np.pi))"
   ]
  },
  {
   "cell_type": "code",
   "execution_count": 5,
   "id": "f4e5a035",
   "metadata": {},
   "outputs": [
    {
     "name": "stdout",
     "output_type": "stream",
     "text": [
      "-1.0\n"
     ]
    }
   ],
   "source": [
    "#  Normal commands\n",
    "\n",
    "print (np.cos(np.pi))"
   ]
  },
  {
   "cell_type": "code",
   "execution_count": null,
   "id": "c14a1006",
   "metadata": {},
   "outputs": [],
   "source": []
  },
  {
   "cell_type": "code",
   "execution_count": 6,
   "id": "63c67b7a",
   "metadata": {},
   "outputs": [
    {
     "name": "stdout",
     "output_type": "stream",
     "text": [
      "1.1\n",
      "5.2\n"
     ]
    }
   ],
   "source": [
    "#  Normal commands\n",
    "\n",
    "print (np.sqrt(1.21))\n",
    "print (np.log(np.exp(5.2)))"
   ]
  },
  {
   "cell_type": "code",
   "execution_count": 7,
   "id": "fba87d47",
   "metadata": {},
   "outputs": [
    {
     "name": "stdout",
     "output_type": "stream",
     "text": [
      "[1 2 3]\n"
     ]
    }
   ],
   "source": [
    "# NOrmal Arrays\n",
    "\n",
    "vec = np.array([1,2,3])\n",
    "print (vec)"
   ]
  },
  {
   "cell_type": "code",
   "execution_count": 8,
   "id": "e90f0952",
   "metadata": {},
   "outputs": [
    {
     "name": "stdout",
     "output_type": "stream",
     "text": [
      " \n",
      "[[1 2 1 5]\n",
      " [4 5 9 8]]\n",
      " \n",
      "[[1 4]\n",
      " [2 5]\n",
      " [1 9]\n",
      " [5 8]]\n"
     ]
    }
   ],
   "source": [
    "# Creating arrays and transposing\n",
    "\n",
    "mat = np.array([[1, 2, 1,5], [4,5,9,8]])\n",
    "print (' ')\n",
    "print (mat)\n",
    "print (' ')\n",
    "print (mat.T)"
   ]
  },
  {
   "cell_type": "code",
   "execution_count": 9,
   "id": "df5fa9b4",
   "metadata": {},
   "outputs": [
    {
     "name": "stdout",
     "output_type": "stream",
     "text": [
      "[ 0  1  2  3  4  5  6  7  8  9 10 11 12 13 14]\n",
      " \n",
      "[ 3  9 15]\n"
     ]
    }
   ],
   "source": [
    "# other ways to create arrays\n",
    "#  in vec2 it is 0 to 14 while in vec3 it is 3 to 20 but skipping every 6th)\n",
    "\n",
    "vec2 = np.arange(0,15)\n",
    "print(vec2)\n",
    "print(' ')\n",
    "vec3 = np.arange(3,21,6)\n",
    "print(vec3)\n"
   ]
  },
  {
   "cell_type": "code",
   "execution_count": 10,
   "id": "7e9e9da0",
   "metadata": {},
   "outputs": [
    {
     "name": "stdout",
     "output_type": "stream",
     "text": [
      "[0.         0.55555556 1.11111111 1.66666667 2.22222222 2.77777778\n",
      " 3.33333333 3.88888889 4.44444444 5.        ]\n",
      " \n",
      "[[0.         0.55555556]\n",
      " [1.11111111 1.66666667]\n",
      " [2.22222222 2.77777778]\n",
      " [3.33333333 3.88888889]\n",
      " [4.44444444 5.        ]]\n"
     ]
    }
   ],
   "source": [
    "'''Linpace command creates the array with some equal spaces, it consist 3 commands where 0 till 5 is range\n",
    "and there should be 10 points between them which have common difference, basically AP. \n",
    "'''\n",
    "# Reshape is changing its matrix here with 5 rows and 2 coloumns\n",
    "\n",
    "\n",
    "vec4 = np.linspace(0, 5, 10)\n",
    "print(vec4)\n",
    "print(' ')\n",
    "print(vec4.reshape(5,2))\n"
   ]
  },
  {
   "cell_type": "code",
   "execution_count": 11,
   "id": "b3e250d2",
   "metadata": {},
   "outputs": [
    {
     "name": "stdout",
     "output_type": "stream",
     "text": [
      "[ 0.83569805 -0.47718305 -0.74373534  2.24366166  0.86533483 -1.62179215\n",
      " -1.6626812   1.47304591  0.93785657  1.57765572 -1.16880143 -1.11541895\n",
      " -0.07768038  0.58088109  1.60208778  1.41709817 -1.42683839]\n",
      "-1.6626811958844872\n"
     ]
    }
   ],
   "source": [
    "# how do we access entries in numpy\n",
    "\n",
    "rand_vec =  np.random.randn(17)\n",
    "print(rand_vec)\n",
    "print(rand_vec[6])\n"
   ]
  },
  {
   "cell_type": "code",
   "execution_count": 12,
   "id": "c454b21a",
   "metadata": {},
   "outputs": [
    {
     "name": "stdout",
     "output_type": "stream",
     "text": [
      "[-1.6626812   1.47304591  0.93785657]\n"
     ]
    }
   ],
   "source": [
    "#  access multiple entries\n",
    "#  below command 6 is inclusive and 9 is eclusive\n",
    "\n",
    "print(rand_vec[6:9])"
   ]
  },
  {
   "cell_type": "code",
   "execution_count": 13,
   "id": "c8920ce1",
   "metadata": {},
   "outputs": [
    {
     "name": "stdout",
     "output_type": "stream",
     "text": [
      "[ 0  3  6  9 12]\n",
      "[ 0.83569805  2.24366166 -1.6626812   1.57765572 -0.07768038]\n"
     ]
    }
   ],
   "source": [
    "# Given 0,3,6,9,12 are just inde location, which will trigger rand_vec index location\n",
    "\n",
    "print(np.arange(0,15,3))\n",
    "print(rand_vec[np.arange(0,15,3)])\n"
   ]
  },
  {
   "cell_type": "code",
   "execution_count": 14,
   "id": "e89e276f",
   "metadata": {},
   "outputs": [
    {
     "name": "stdout",
     "output_type": "stream",
     "text": [
      "[[ 9 13  1 13 10]\n",
      " [ 3  6  8 11 12]\n",
      " [ 3 10  8 12  6]\n",
      " [14  2 13 11  1]\n",
      " [10 10  5 13  1]]\n",
      " \n",
      "8\n",
      " \n",
      "8\n",
      " \n",
      "[ 3  6  8 11 12] [2]\n"
     ]
    }
   ],
   "source": [
    "# First one is random matrix creation\n",
    "# second is 2nd ROW and 1st Coloumn\n",
    "# Third is same as second\n",
    "# Fourth is whole second row and 2 written is telling row number\n",
    "\n",
    "\n",
    "rand_mat = np.random.randint(1, 15, (5, 5))\n",
    "print(rand_mat)\n",
    "print(\" \")\n",
    "print(rand_mat [1] [2])  \n",
    "print(\" \")\n",
    "print(rand_mat[1,2])\n",
    "print(\" \")\n",
    "print(rand_mat [1], [2])"
   ]
  },
  {
   "cell_type": "code",
   "execution_count": 15,
   "id": "f22da3f5",
   "metadata": {},
   "outputs": [
    {
     "name": "stdout",
     "output_type": "stream",
     "text": [
      "[[ 9 13  1 13 10]\n",
      " [ 3  6  8 11 12]]\n"
     ]
    }
   ],
   "source": [
    "print  (rand_mat[0:2])"
   ]
  },
  {
   "cell_type": "code",
   "execution_count": 16,
   "id": "634aa672",
   "metadata": {},
   "outputs": [
    {
     "name": "stdout",
     "output_type": "stream",
     "text": [
      "[ 0.83569805 -0.47718305 -0.74373534  4.          4.         -1.62179215\n",
      " -1.6626812   1.47304591  0.93785657  1.57765572 -1.16880143 -1.11541895\n",
      " -0.07768038  0.58088109  1.60208778  1.41709817 -1.42683839]\n",
      "\n",
      "\n",
      "[ 0.83569805 -0.47718305 -0.74373534  1.          2.          3.\n",
      " -1.6626812   1.47304591  0.93785657  1.57765572 -1.16880143 -1.11541895\n",
      " -0.07768038  0.58088109  1.60208778  1.41709817 -1.42683839]\n"
     ]
    }
   ],
   "source": [
    "rand_vec[3:5] = 4\n",
    "print(rand_vec)\n",
    "print(\"\")\n",
    "rand_vec[3:6]= [1,2,3]\n",
    "print('')\n",
    "print(rand_vec)"
   ]
  },
  {
   "cell_type": "code",
   "execution_count": 17,
   "id": "34957432",
   "metadata": {},
   "outputs": [
    {
     "name": "stdout",
     "output_type": "stream",
     "text": [
      "\n",
      "[[ 9 13  1 13 10]\n",
      " [ 3  6  0 11 12]\n",
      " [ 3 10  0 12  6]\n",
      " [14  2 13 11  1]\n",
      " [10 10  5 13  1]]\n"
     ]
    }
   ],
   "source": [
    "rand_mat[1:3, 2:3] = 0\n",
    "print('')\n",
    "print(rand_mat)"
   ]
  },
  {
   "cell_type": "code",
   "execution_count": 18,
   "id": "2edc24a3",
   "metadata": {},
   "outputs": [
    {
     "name": "stdout",
     "output_type": "stream",
     "text": [
      "[ 0.48726385  1.18870534 -0.47951124 -1.14834505  0.37185373  0.17157705\n",
      "  0.30509956  1.54512217 -0.70898498  0.33742259 -1.25856882  1.99180143\n",
      " -0.66990344  0.49260862 -1.15641389]\n",
      "[ True  True False False  True  True  True  True False  True False  True\n",
      " False  True False]\n",
      "[0.48726385 1.18870534 0.37185373 0.17157705 0.30509956 1.54512217\n",
      " 0.33742259 1.99180143 0.49260862]\n"
     ]
    }
   ],
   "source": [
    "# accessing entries with logical\n",
    "# results me dekh jaha jaha false aya usne value skip kr di\n",
    "\n",
    "rand_vec = np.random.randn(15)\n",
    "print(rand_vec)\n",
    "print(rand_vec>0)\n",
    "print(rand_vec[rand_vec>0])"
   ]
  },
  {
   "cell_type": "code",
   "execution_count": 19,
   "id": "564b421a",
   "metadata": {
    "scrolled": true
   },
   "outputs": [
    {
     "name": "stdout",
     "output_type": "stream",
     "text": [
      "[[23  0 21  3 17]\n",
      " [19  9 19  1 19]\n",
      " [ 7  5  3  8 20]\n",
      " [20  8  7 11 16]\n",
      " [ 8 14 18 19 15]\n",
      " [ 0 22  1 23  2]\n",
      " [14 15  9 19 15]\n",
      " [ 5  4 18  6 13]\n",
      " [ 1  0  4  0 24]\n",
      " [13 23 13 22  3]]\n",
      " \n",
      "[23 21 17 19  9 19 19 20 20 11 16 14 18 19 15 22 23 14 15  9 19 15 18 13\n",
      " 24 13 23 13 22]\n"
     ]
    }
   ],
   "source": [
    "rand_mat2 = np.random.randint(0,25, (10, 5))\n",
    "print(rand_mat2)\n",
    "print(\" \")\n",
    "print(rand_mat2[rand_mat2>8])"
   ]
  },
  {
   "cell_type": "code",
   "execution_count": 20,
   "id": "b59a7130",
   "metadata": {},
   "outputs": [
    {
     "name": "stdout",
     "output_type": "stream",
     "text": [
      "[ 0.48726385  1.18870534 -0.47951124 -1.14834505  0.37185373  0.17157705\n",
      "  0.30509956  1.54512217 -0.70898498  0.33742259 -1.25856882  1.99180143\n",
      " -0.66990344  0.49260862 -1.15641389]\n",
      "[-91.         -91.          -0.47951124  -1.14834505 -91.\n",
      " -91.         -91.         -91.          -0.70898498 -91.\n",
      "  -1.25856882 -91.          -0.66990344 -91.          -1.15641389]\n"
     ]
    }
   ],
   "source": [
    "print(rand_vec)\n",
    "rand_vec[rand_vec>0] = -91\n",
    "print(rand_vec)"
   ]
  },
  {
   "cell_type": "code",
   "execution_count": 21,
   "id": "9679ca8c",
   "metadata": {},
   "outputs": [],
   "source": [
    "# single file save\n",
    "\n",
    "np.save('Save_file_mat', rand_mat2)\n",
    "\n",
    "# multiple save files\n",
    "\n",
    "np.savez('zipped_file_name', rand_mat=rand_mat, rand_mat2=rand_mat2)"
   ]
  },
  {
   "cell_type": "code",
   "execution_count": 22,
   "id": "e12cbade",
   "metadata": {},
   "outputs": [
    {
     "name": "stdout",
     "output_type": "stream",
     "text": [
      "[[23  0 21  3 17]\n",
      " [19  9 19  1 19]\n",
      " [ 7  5  3  8 20]\n",
      " [20  8  7 11 16]\n",
      " [ 8 14 18 19 15]\n",
      " [ 0 22  1 23  2]\n",
      " [14 15  9 19 15]\n",
      " [ 5  4 18  6 13]\n",
      " [ 1  0  4  0 24]\n",
      " [13 23 13 22  3]]\n",
      " \n",
      "<numpy.lib.npyio.NpzFile object at 0x0000022AD180AC80>\n"
     ]
    }
   ],
   "source": [
    "# lets load it\n",
    "\n",
    "loaded_vec = np.load('Save_file_mat.npy')\n",
    "loaded_zip = np.load('zipped_file_name.npz')\n",
    "\n",
    "print(loaded_vec)\n",
    "print(\" \")\n",
    "print(loaded_zip)\n",
    "\n",
    "# u see it didnt loaded. shows some sentence shit"
   ]
  },
  {
   "cell_type": "code",
   "execution_count": 23,
   "id": "18e4f031",
   "metadata": {},
   "outputs": [
    {
     "name": "stdout",
     "output_type": "stream",
     "text": [
      "[[ 9 13  1 13 10]\n",
      " [ 3  6  0 11 12]\n",
      " [ 3 10  0 12  6]\n",
      " [14  2 13 11  1]\n",
      " [10 10  5 13  1]]\n",
      " \n",
      "[[23  0 21  3 17]\n",
      " [19  9 19  1 19]\n",
      " [ 7  5  3  8 20]\n",
      " [20  8  7 11 16]\n",
      " [ 8 14 18 19 15]\n",
      " [ 0 22  1 23  2]\n",
      " [14 15  9 19 15]\n",
      " [ 5  4 18  6 13]\n",
      " [ 1  0  4  0 24]\n",
      " [13 23 13 22  3]]\n",
      " \n",
      "[[ 9 13  1 13 10]\n",
      " [ 3  6  0 11 12]\n",
      " [ 3 10  0 12  6]\n",
      " [14  2 13 11  1]\n",
      " [10 10  5 13  1]]\n"
     ]
    }
   ],
   "source": [
    "# lets open that zip file\n",
    "\n",
    "print(loaded_zip['rand_mat'])\n",
    "print(\" \")\n",
    "print(loaded_zip['rand_mat2'])\n",
    "print(\" \")\n",
    "new_array = loaded_zip['rand_mat']\n",
    "print(new_array)"
   ]
  },
  {
   "cell_type": "code",
   "execution_count": 29,
   "id": "bd38e908",
   "metadata": {},
   "outputs": [
    {
     "name": "stderr",
     "output_type": "stream",
     "text": [
      "C:\\Users\\ajeet\\AppData\\Local\\Temp\\ipykernel_15036\\2311868015.py:1: RuntimeWarning: invalid value encountered in log\n",
      "  np.cos(np.log(np.sin(np.log(np.sin(90)))))\n"
     ]
    },
    {
     "data": {
      "text/plain": [
       "nan"
      ]
     },
     "execution_count": 29,
     "metadata": {},
     "output_type": "execute_result"
    }
   ],
   "source": [
    "np.cos(np.log(np.sin(np.log(np.sin(90)))))"
   ]
  }
 ],
 "metadata": {
  "kernelspec": {
   "display_name": "Python 3 (ipykernel)",
   "language": "python",
   "name": "python3"
  },
  "language_info": {
   "codemirror_mode": {
    "name": "ipython",
    "version": 3
   },
   "file_extension": ".py",
   "mimetype": "text/x-python",
   "name": "python",
   "nbconvert_exporter": "python",
   "pygments_lexer": "ipython3",
   "version": "3.10.9"
  }
 },
 "nbformat": 4,
 "nbformat_minor": 5
}
